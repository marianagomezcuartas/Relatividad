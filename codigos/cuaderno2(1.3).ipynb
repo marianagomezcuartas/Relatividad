{
 "cells": [
  {
   "cell_type": "markdown",
   "id": "06f8bd12",
   "metadata": {},
   "source": [
    "Mariana Gómez Cuartas \\\n",
    "Universidad de Antioquia"
   ]
  },
  {
   "cell_type": "markdown",
   "id": "d7482eb4",
   "metadata": {},
   "source": [
    "<a href=\"https://colab.research.google.com/github/marianagomezcuartas/Relatividad/blob/main/codigos/cuaderno2(1.3).ipynb\" target=\"_parent\"><img src=\"https://colab.research.google.com/assets/colab-badge.svg\" alt=\"Open In Colab\"/></a>"
   ]
  },
  {
   "cell_type": "markdown",
   "id": "5c1f7b23",
   "metadata": {},
   "source": [
    "### Librerías"
   ]
  },
  {
   "cell_type": "code",
   "execution_count": 1,
   "id": "94c683fc",
   "metadata": {},
   "outputs": [
    {
     "name": "stdout",
     "output_type": "stream",
     "text": [
      "Note: you may need to restart the kernel to use updated packages.\n"
     ]
    }
   ],
   "source": [
    "%pip install -q numpy matplotlib celluloid IPython ipywidgets pandas"
   ]
  },
  {
   "cell_type": "code",
   "execution_count": 2,
   "id": "3c8d47cc",
   "metadata": {},
   "outputs": [],
   "source": [
    "import numpy as np\n",
    "import matplotlib.pyplot as plt\n",
    "from celluloid import Camera\n",
    "from IPython.display import HTML\n",
    "from ipywidgets import interact\n",
    "import pandas as pd"
   ]
  },
  {
   "cell_type": "code",
   "execution_count": 3,
   "id": "a4212bc5",
   "metadata": {},
   "outputs": [],
   "source": [
    "plt.rcParams.update({'font.size': 14})"
   ]
  },
  {
   "cell_type": "markdown",
   "id": "493a56e5",
   "metadata": {},
   "source": [
    "# Capítulo 1.3: consecuencias de las transformaciones de Lorentz (pp. 24-30)\n"
   ]
  },
  {
   "cell_type": "markdown",
   "id": "3897d970",
   "metadata": {},
   "source": []
  }
 ],
 "metadata": {
  "kernelspec": {
   "display_name": "Python 3",
   "language": "python",
   "name": "python3"
  },
  "language_info": {
   "codemirror_mode": {
    "name": "ipython",
    "version": 3
   },
   "file_extension": ".py",
   "mimetype": "text/x-python",
   "name": "python",
   "nbconvert_exporter": "python",
   "pygments_lexer": "ipython3",
   "version": "3.11.9"
  }
 },
 "nbformat": 4,
 "nbformat_minor": 5
}
