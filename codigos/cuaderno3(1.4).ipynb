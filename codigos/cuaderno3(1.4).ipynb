{
 "cells": [
  {
   "cell_type": "markdown",
   "id": "903a4fcc",
   "metadata": {},
   "source": [
    "Mariana Gómez Cuartas \\\n",
    "Universidad de Antioquia"
   ]
  },
  {
   "cell_type": "markdown",
   "id": "034fe79e",
   "metadata": {},
   "source": [
    "<a href=\"https://colab.research.google.com/github/marianagomezcuartas/Relatividad/blob/main/codigos/cuaderno3(1.4).ipynb\" target=\"_parent\"><img src=\"https://colab.research.google.com/assets/colab-badge.svg\" alt=\"Open In Colab\"/></a>"
   ]
  },
  {
   "cell_type": "markdown",
   "id": "e5f2c44f",
   "metadata": {},
   "source": []
  }
 ],
 "metadata": {
  "kernelspec": {
   "display_name": ".venv",
   "language": "python",
   "name": "python3"
  },
  "language_info": {
   "name": "python",
   "version": "3.11.9"
  }
 },
 "nbformat": 4,
 "nbformat_minor": 5
}
