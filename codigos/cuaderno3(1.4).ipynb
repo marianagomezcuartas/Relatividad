{
 "cells": [
  {
   "cell_type": "markdown",
   "id": "903a4fcc",
   "metadata": {},
   "source": [
    "Mariana Gómez Cuartas \\\n",
    "Universidad de Antioquia"
   ]
  },
  {
   "cell_type": "markdown",
   "id": "034fe79e",
   "metadata": {},
   "source": [
    "<a href=\"https://colab.research.google.com/github/marianagomezcuartas/Relatividad/blob/main/codigos/cuaderno3(1.4).ipynb\" target=\"_parent\"><img src=\"https://colab.research.google.com/assets/colab-badge.svg\" alt=\"Open In Colab\"/></a>"
   ]
  },
  {
   "cell_type": "markdown",
   "id": "e5f2c44f",
   "metadata": {},
   "source": [
    "### Librerías"
   ]
  },
  {
   "cell_type": "code",
   "execution_count": 3,
   "id": "79eb3dde",
   "metadata": {},
   "outputs": [
    {
     "name": "stdout",
     "output_type": "stream",
     "text": [
      "Note: you may need to restart the kernel to use updated packages.\n"
     ]
    }
   ],
   "source": [
    "%pip install -q matplotlib celluloid IPython ipywidgets pandas"
   ]
  },
  {
   "cell_type": "code",
   "execution_count": 4,
   "id": "b343f134",
   "metadata": {},
   "outputs": [],
   "source": [
    "import numpy as np\n",
    "import matplotlib.pyplot as plt\n",
    "from celluloid import Camera\n",
    "from IPython.display import HTML\n",
    "from ipywidgets import interact\n",
    "import pandas as pd"
   ]
  },
  {
   "cell_type": "code",
   "execution_count": null,
   "id": "42fec3a8",
   "metadata": {},
   "outputs": [],
   "source": [
    "plt.rcParams.update({'font.size': 14})"
   ]
  },
  {
   "cell_type": "markdown",
   "id": "879f6d20",
   "metadata": {},
   "source": [
    "### Recopilación de funciones importantes"
   ]
  },
  {
   "cell_type": "code",
   "execution_count": null,
   "id": "33e6c2ce",
   "metadata": {},
   "outputs": [],
   "source": []
  },
  {
   "cell_type": "markdown",
   "id": "b14c20a4",
   "metadata": {},
   "source": [
    "# 1.4 El espacio tiempo de Minkowski"
   ]
  },
  {
   "cell_type": "markdown",
   "id": "c79ba7af",
   "metadata": {},
   "source": [
    "## Diagramas espacio-temporales, conos de luz y causalidad\n",
    "\n",
    "Los diagramas de espaciotiempo (o diagramas de Minkowski) son herramientas gráficas que permiten visualizar eventos en relatividad especial, representando coordenadas de _ct_ (tiempo multiplicado por la velocidad de la luz) frente a _x_, ignorando _y_ y _z_. En estos diagramas, cada punto corresponde a un evento observado en un marco inercial _S_. Para analizar un segundo marco _S'_ en configuración estándar (movimiento relativo a velocidad _V_ a lo largo del eje _x_), los ejes _ct'_ y _x'_ de _S'_ se trazan sobre el diagrama de _S_. \n",
    "\n",
    "El eje _x'_ se define como el conjunto de eventos con _ct'_ = 0, y el eje _ct'_ corresponde a eventos con _x'_ = 0. Usando las transformaciones de Lorentz:\n",
    "\n",
    "$$ct' = \\gamma(V)(ct − Vx/c)$$ \n",
    "$$x' = \\gamma(V)(x − Vt)$$\n",
    "\n",
    ", estos ejes aparecen como rectas inclinadas en _S_, y que vienen dadas por las ecuaciones:\n",
    "\n",
    "**Eje ct' :** $ct = (V/c) x$\n",
    "\n",
    "**Eje x' :** $ct = (c/V) x$\n",
    "\n",
    "Tal como se puede ver en las anteriores ecuaciones, esta ubicación de ejes va depender de la velocidad, y es algo que se puede visualizar en la siguiente animación:"
   ]
  },
  {
   "cell_type": "code",
   "execution_count": null,
   "id": "b8a342b0",
   "metadata": {},
   "outputs": [],
   "source": [
    "# hacer aquí la animación del movimiento de los ejes primados con el eje de S fijo"
   ]
  },
  {
   "cell_type": "markdown",
   "id": "86853761",
   "metadata": {},
   "source": []
  }
 ],
 "metadata": {
  "kernelspec": {
   "display_name": ".venv",
   "language": "python",
   "name": "python3"
  },
  "language_info": {
   "codemirror_mode": {
    "name": "ipython",
    "version": 3
   },
   "file_extension": ".py",
   "mimetype": "text/x-python",
   "name": "python",
   "nbconvert_exporter": "python",
   "pygments_lexer": "ipython3",
   "version": "3.11.9"
  }
 },
 "nbformat": 4,
 "nbformat_minor": 5
}
