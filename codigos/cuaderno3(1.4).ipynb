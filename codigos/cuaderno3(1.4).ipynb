{
 "cells": [
  {
   "cell_type": "markdown",
   "id": "903a4fcc",
   "metadata": {},
   "source": [
    "Mariana Gómez Cuartas \\\n",
    "Universidad de Antioquia"
   ]
  },
  {
   "cell_type": "markdown",
   "id": "034fe79e",
   "metadata": {},
   "source": [
    "<a href=\"https://colab.research.google.com/github/marianagomezcuartas/Relatividad/blob/main/codigos/cuaderno3(1.4).ipynb\" target=\"_parent\"><img src=\"https://colab.research.google.com/assets/colab-badge.svg\" alt=\"Open In Colab\"/></a>"
   ]
  },
  {
   "cell_type": "markdown",
   "id": "e5f2c44f",
   "metadata": {},
   "source": [
    "### Librerías"
   ]
  },
  {
   "cell_type": "code",
   "execution_count": 2,
   "id": "79eb3dde",
   "metadata": {},
   "outputs": [
    {
     "name": "stdout",
     "output_type": "stream",
     "text": [
      "Note: you may need to restart the kernel to use updated packages.\n"
     ]
    }
   ],
   "source": [
    "%pip install -q matplotlib celluloid IPython ipywidgets pandas sympy"
   ]
  },
  {
   "cell_type": "code",
   "execution_count": 5,
   "id": "b343f134",
   "metadata": {},
   "outputs": [],
   "source": [
    "import numpy as np\n",
    "import matplotlib.pyplot as plt\n",
    "from celluloid import Camera\n",
    "from IPython.display import HTML\n",
    "from ipywidgets import interact\n",
    "import pandas as pd\n",
    "import sympy as sp\n"
   ]
  },
  {
   "cell_type": "code",
   "execution_count": null,
   "id": "42fec3a8",
   "metadata": {},
   "outputs": [],
   "source": [
    "plt.rcParams.update({'font.size': 14})"
   ]
  },
  {
   "cell_type": "markdown",
   "id": "879f6d20",
   "metadata": {},
   "source": [
    "### Recopilación de funciones importantes de este notebook"
   ]
  },
  {
   "cell_type": "code",
   "execution_count": null,
   "id": "33e6c2ce",
   "metadata": {},
   "outputs": [],
   "source": []
  },
  {
   "cell_type": "markdown",
   "id": "b14c20a4",
   "metadata": {},
   "source": [
    "# 1.4 El espacio tiempo de Minkowski"
   ]
  },
  {
   "cell_type": "markdown",
   "id": "c79ba7af",
   "metadata": {},
   "source": [
    "## Diagramas espacio-temporales, conos de luz y causalidad\n",
    "\n",
    "Los diagramas de espaciotiempo (o diagramas de Minkowski) son herramientas gráficas que permiten visualizar eventos en relatividad especial, representando coordenadas de $ct$ (tiempo multiplicado por la velocidad de la luz) frente a $x$, ignorando $y$ y $z$. En estos diagramas, cada punto corresponde a un evento observado en un marco inercial $S$. Para analizar un segundo marco $S'$ en configuración estándar (movimiento relativo a velocidad $V$ a lo largo del eje $x$), los ejes $ct'$ y $x'$ de $S'$ se trazan sobre el diagrama de $S$. \n",
    "\n",
    "El eje $x'$ se define como el conjunto de eventos con $ct'$ = 0, y el eje $ct'$ corresponde a eventos con $x'$ = 0. Usando las transformaciones de Lorentz:\n",
    "\n",
    "$$ct' = \\gamma(V)(ct − Vx/c)$$ \n",
    "$$x' = \\gamma(V)(x − Vt)$$\n",
    "\n",
    ", estos ejes aparecen como rectas inclinadas en $S$, y que vienen dadas por las ecuaciones:\n",
    "\n",
    "**Eje ct' :** $ct = (c/V) x$\n",
    "\n",
    "**Eje x' :** $ct = (V/c) x$\n",
    "\n",
    "Tal como se puede ver en las anteriores ecuaciones, esta ubicación de ejes va depender de la velocidad, y es algo que se puede visualizar en la siguiente animación:"
   ]
  },
  {
   "cell_type": "code",
   "execution_count": null,
   "id": "b8a342b0",
   "metadata": {},
   "outputs": [],
   "source": [
    "# hacer aquí la animación del movimiento de los ejes primados con el eje de S fijo"
   ]
  },
  {
   "cell_type": "markdown",
   "id": "86853761",
   "metadata": {},
   "source": [
    "Particularmente, este diagrama muestra que la línea de gradiente 1 (donde $x = ct$ o $x' = ct'$), la cual representa el posible camino para la luz, es igual para todos los observadores inerciales, conforme al segundo postulado de la relatividad. A medida que la velocidad relativa $ V $ entre los marcos $ S $ y $ S' $ aumenta, los ejes $ x' $ y $ ct' $ de $ S' $ se aproximan a esta línea desde ambos lados, reflejando que las transformaciones de Lorentz no alteran la velocidad de la luz. En diagramas 3D (ct, x, y), esta línea se extiende a un **cono de luz**: eventos conectados al origen por señales luminosas, donde todos los observadores coinciden en qué eventos están dentro, sobre o fuera del cono, garantizando causalidad consistente. Cortes horizontales en un diagrama 4D (ct, x, y, z) en $ct = \\text{constante} $, representan frentes de luz esféricos.\n",
    "\n",
    "Para determinar coordenadas de un evento en $ S' $, se trazan líneas paralelas a los ejes primados. Por ejemplo, en el siguiente diagrama, el evento 1 en $ S' $ comparte tiempo con el evento 2 y posición con el evento 3, ilustrando la relatividad de la simultaneidad y la posición. Este método gráfico subraya cómo marcos en movimiento asignan coordenadas distintas a un mismo evento, manteniendo siempre la línea de luz como referencia absoluta."
   ]
  },
  {
   "cell_type": "code",
   "execution_count": 1,
   "id": "e126bf6f",
   "metadata": {},
   "outputs": [],
   "source": [
    "# hacer aquí el diagrama donde se trazan los 4 eventos en el diagrama de minkowsky"
   ]
  },
  {
   "cell_type": "markdown",
   "id": "9bb1af39",
   "metadata": {},
   "source": [
    "La **relatividad del orden temporal** muestra que eventos no causalmente conectados (fuera del cono de luz) pueden tener su secuencia invertida entre observadores inerciales, como se ve en la Figura 1.18: en \\( S \\), el orden es 0 → 2 → 3 → 1, mientras que en \\( S' \\), 0 y 3 son simultáneos, precediendo a 2 y 1. Sin embargo, la **causalidad** se preserva para eventos dentro del cono de luz (como 0 y 2), donde todos los observadores coinciden en el orden temporal. Eventos fuera del cono (ej. 0 y 3) solo podrían vincularse mediante señales más rápidas que la luz, lo cual es imposible en relatividad.  \n",
    "\n",
    "El **cono de luz** es clave:  \n",
    "- Eventos dentro del cono de otro (ej. 0 y 2) mantienen su orden temporal, garantizando que causas precedan efectos.  \n",
    "- Eventos fuera (ej. 0 y 1) no tienen relación causal: su orden puede invertirse sin violar causalidad.  \n",
    "- Todo evento tiene su propio cono de luz (no solo el origen), determinando qué eventos pueden influir o ser influidos por él.  \n",
    "\n",
    "En el ejemplo:  \n",
    "- **El evento 1** está fuera del cono de 0 (no causal), pero dentro del cono de 3 (causalidad posible).\n",
    "- Es importante tener en cuenta que cada evento tiene su propio cono de luz, y que estos son importantes para determinar la causalidad entre eventos."
   ]
  },
  {
   "cell_type": "markdown",
   "id": "ad8e3696",
   "metadata": {},
   "source": [
    "## Separación espacio-temporal y la métrica de Minkowski"
   ]
  },
  {
   "cell_type": "markdown",
   "id": "1e4f340d",
   "metadata": {},
   "source": [
    "En el espacio tridimensional, la **distancia euclidiana** entre dos puntos es invariante bajo rotaciones del sistema de coordenadas. Se define como:  \n",
    "$$(\\Delta l)^2 = (\\Delta x)^2 + (\\Delta y)^2 + (\\Delta z)^2,$$  \n",
    "donde $ \\Delta x, \\Delta y, \\Delta z $ son las diferencias en cada coordenada. Esta invariancia implica que cualquier rotación preserva la separación física, es decir:\n",
    "$$(\\Delta l)^2 = (\\Delta l')^2,$$\n",
    "\n",
    "En el **espaciotiempo de Minkowski** (4D), la **separación espacio-temporal** entre dos eventos se define como:  \n",
    "$$(\\Delta s)^2 = (c\\,\\Delta t)^2 - (\\Delta x)^2 - (\\Delta y)^2 - (\\Delta z)^2.$$  \n",
    "Este intervalo es invariante bajo transformaciones de Lorentz, asegurando que observadores inerciales \\( O \\) y \\( O' \\) (en marcos \\( S \\) y \\( S' \\)) midan:  \n",
    "$$(\\Delta s)^2 = (c\\,\\Delta t')^2 - (\\Delta l')^2 = (\\Delta s')^2.$$  \n",
    "\n",
    "**Aunque difieran en coordenadas $ \\Delta t $, $ \\Delta x $, etc., coincidirán en $(\\Delta s)^2 $.**  \n",
    "  "
   ]
  },
  {
   "cell_type": "markdown",
   "id": "be536766",
   "metadata": {},
   "source": [
    "---"
   ]
  },
  {
   "cell_type": "markdown",
   "id": "d4e1e8e1",
   "metadata": {},
   "source": [
    "Veamos los siguientes ejercicios, que son propuestos en el libro:"
   ]
  },
  {
   "cell_type": "code",
   "execution_count": null,
   "id": "ce7fca67",
   "metadata": {},
   "outputs": [
    {
     "name": "stdout",
     "output_type": "stream",
     "text": [
      "Ejercicio 1.8: (Δs)^2 = 0 m²\n"
     ]
    }
   ],
   "source": [
    "# Ejercicio 1.8: Calcular la separación espacio-temporal entre dos eventos\n",
    "def spacetime_separation(evento1, evento2):\n",
    "    ct1, x1, y1, z1 = evento1\n",
    "    ct2, x2, y2, z2 = evento2\n",
    "    \n",
    "    delta_ct = ct2 - ct1\n",
    "    delta_x = x2 - x1\n",
    "    delta_y = y2 - y1\n",
    "    delta_z = z2 - z1\n",
    "    return (delta_ct**2 - delta_x**2 - delta_y**2 - delta_z**2)\n",
    "\n",
    "# Datos+ (coordenadas en metros)\n",
    "evento1 = (3, 7, 0, 0)\n",
    "evento2 = (5, 5, 0, 0)\n",
    "s_squared = spacetime_separation(evento1, evento2)\n",
    "print(f\"Ejercicio 1.8: (Δs)^2 = {s_squared} m²\")"
   ]
  },
  {
   "cell_type": "markdown",
   "id": "98f21a9c",
   "metadata": {},
   "source": [
    "**Ejercicio 1.9**: Demostrar que el intervalo espacio-temporal es invariante bajo transformaciones de Lorentz cuando $ \\Delta y = \\Delta z = 0 $.\n",
    "\n",
    "**Solución**:\n",
    "\n",
    "1. **Intervalo en el marco \\( S \\)**:\n",
    "   Dado $ \\Delta y = 0 $ y $ \\Delta z = 0 $, el intervalo se simplifica a:\n",
    "   $$\n",
    "   (\\Delta s)^2 = (c\\,\\Delta t)^2 - (\\Delta x)^2.\n",
    "   $$\n",
    "\n",
    "2. **Transformaciones de Lorentz** (para $ \\Delta t' $ y $ \\Delta x' $):\n",
    "   $$\n",
    "   \\Delta t' = \\gamma \\left( \\Delta t - \\frac{v\\,\\Delta x}{c^2} \\right), \\quad \\Delta x' = \\gamma \\left( \\Delta x - v\\,\\Delta t \\right),\n",
    "   $$\n",
    "   donde $ \\gamma = \\frac{1}{\\sqrt{1 - v^2/c^2}} $.\n",
    "\n",
    "3. **Intervalo en el marco \\( S' \\)**:\n",
    "   Calculamos $ (\\Delta s')^2 = (c\\,\\Delta t')^2 - (\\Delta x')^2 $:\n",
    "   $$\n",
    "   \\begin{align*}\n",
    "   (\\Delta s')^2 &= c^2 \\gamma^2 \\left( \\Delta t - \\frac{v\\,\\Delta x}{c^2} \\right)^2 - \\gamma^2 \\left( \\Delta x - v\\,\\Delta t \\right)^2 \\\\\n",
    "   &= \\gamma^2 \\left[ c^2\\Delta t^2 - 2v\\,\\Delta t \\Delta x + \\frac{v^2 (\\Delta x)^2}{c^2} - (\\Delta x^2 - 2v\\,\\Delta t \\Delta x + v^2 \\Delta t^2) \\right].\n",
    "   \\end{align*}\n",
    "   $$\n",
    "\n",
    "4. **Simplificamos y agrupamos**:\n",
    "   $$\n",
    "   (\\Delta s')^2 = \\gamma^2 \\left[ c^2\\Delta t^2 \\left(1 - \\frac{v^2}{c^2}\\right) - \\Delta x^2 \\left(1 - \\frac{v^2}{c^2}\\right) \\right].\n",
    "   $$\n",
    "\n",
    "5. **Usando $ \\gamma^2 = \\frac{1}{1 - v^2/c^2} $:**\n",
    "   $$\n",
    "   (\\Delta s')^2 = \\frac{1}{1 - v^2/c^2} \\left(1 - \\frac{v^2}{c^2}\\right) \\left( c^2\\Delta t^2 - \\Delta x^2 \\right) = (c\\,\\Delta t)^2 - (\\Delta x)^2.\n",
    "   $$\n",
    "\n",
    "6. **Conclusión**:\n",
    "   $$ (\\Delta s')^2 = (\\Delta s)^2. $$\n",
    "   Por lo tanto, el intervalo espacio-temporal es invariante bajo transformaciones de Lorentz cuando $ \\Delta y = \\Delta z = 0 $."
   ]
  },
  {
   "cell_type": "markdown",
   "id": "7142d81d",
   "metadata": {},
   "source": [
    "---\n"
   ]
  },
  {
   "cell_type": "markdown",
   "id": "033d1631",
   "metadata": {},
   "source": [
    "La **separación espacio-temporal** en relatividad puede expresarse mediante la **métrica de Minkowski** $ \\eta_{\\mu\\nu}  $, que codifica la estructura del espaciotiempo. Usando notación de suma:  \n",
    "$$\n",
    "(\\Delta s)^2 = \\sum_{\\mu,\\nu=0}^3 \\eta_{\\mu\\nu} \\, \\Delta x^\\mu \\, \\Delta x^\\nu,\n",
    "$$  \n",
    "donde $ [\\Delta x^\\mu] = (c\\Delta t, \\Delta x, \\Delta y, \\Delta z) $ y la métrica se define como:  \n",
    "$$\n",
    "[\\eta_{\\mu\\nu}] = \n",
    "\\begin{pmatrix}\n",
    "1 & 0 & 0 & 0 \\\\\n",
    "0 & -1 & 0 & 0 \\\\\n",
    "0 & 0 & -1 & 0 \\\\\n",
    "0 & 0 & 0 & -1\n",
    "\\end{pmatrix}.\n",
    "$$  \n",
    "- **Claves**:  \n",
    "  1. La métrica se ha mostrado en forma matricial solo por conveniencia.  \n",
    "  2. El signo de $ (\\Delta s)^2 $ clasifica eventos en:  \n",
    "     - **Tipo tiempo (temporaloide)** ($ (\\Delta s)^2 > 0 $): Eventos relacionados causalmente, y que existen en un marco donde los dos eventos ocurren en el mismo lugar pero en tiempos diferentes. (dentro del cono de luz).\n",
    "     - **Tipo luz (luminoide)** ($ (\\Delta s)^2 = 0 $): Eventos relacionados causalmente, y en el cual todos los observadores cominciden en que los eventos pueden estar unidos por una señal de luz. (sobre el cono de luz).\n",
    "     - **Tipo espacio (espacioide)** ($ (\\Delta s)^2 < 0 $): Sin relación causal, y que existen en un marco donde los dos eventos ocurren en el mismo tiempo pero en diferentes lugares. (fuera del cono de luz)."
   ]
  },
  {
   "cell_type": "markdown",
   "id": "f74d239b",
   "metadata": {},
   "source": [
    "El **tiempo propio** $\\Delta \\tau$ se determina mediante la **separación espacio-temporal invariante** $(\\Delta s)^2$ a lo largo de la **línea de mundo** de una partícula (su trayectoria en el espaciotiempo), mediante la ecuación: $(\\Delta \\tau)^2 = (\\Delta s)^2 / c^2$.. La convención de signos adoptada aquí asigna $+$ a $(c\\Delta t)^2$ y $-$ a las coordenadas espaciales, asegurando que eventos en trayectorias sublumínicas tengan $(\\Delta s)^2 > 0$. Nota: otros autores usan la convención opuesta ($-+++$), por lo que es esencial verificar la notación al consultar fuentes externas.  "
   ]
  },
  {
   "cell_type": "markdown",
   "id": "24065374",
   "metadata": {},
   "source": [
    "## El efecto de los gemelos\n",
    "\n"
   ]
  },
  {
   "cell_type": "markdown",
   "id": "e170a3c3",
   "metadata": {},
   "source": [
    "El **efecto de los gemelos** ilustra las implicaciones de la dilatación temporal en la relatividad especial. Dos gemelas, Astra (viajera) y Terra (terrestre), experimentan envejecimiento diferencial debido a los movimientos relativos. Desde la perspectiva de Terra, el reloj de Astra se ralentiza durante su viaje de ida y vuelta a velocidades cercanas a la luz, lo que explica que Astra regrese más joven. Sin embargo, la aparente paradoja surge al considerar el marco de Astra: ¿no debería ella observar que Terra envejece menos? La clave radica en que **la simetría entre los marcos se rompe** porque Astra experimenta aceleraciones al cambiar de dirección, mientras Terra permanece en un marco inercial (aproximadamente). \n",
    "\n",
    "La resolución del efecto utiliza tres marcos inerciales:  \n",
    "1. **Terra** (fijo en la Tierra).  \n",
    "2. **Astra** (viaje de ida, velocidad $V$).  \n",
    "3. **Stella** (viaje de vuelta, velocidad $-V$).  \n",
    "Astra salta abruptamente entre naves en el punto de retorno (evento 1), evitando complicaciones con aceleraciones prolongadas. Aunque el cambio es idealizado, muestra que solo Terra mantiene un marco inercial continuo. El evento en el cual Astra y Terra se encuentran de nuevo es el evento 2.\n"
   ]
  },
  {
   "cell_type": "code",
   "execution_count": 1,
   "id": "89fe2c06",
   "metadata": {},
   "outputs": [],
   "source": [
    "# ver si acá hago una aminación que muestre a la tierra quieta, como avanza terra y como salta abruptaente a la nave de stella"
   ]
  },
  {
   "cell_type": "markdown",
   "id": "760f0e8f",
   "metadata": {},
   "source": [
    "Los marcos en esta situación se definen de tal forma que:\n",
    "\n",
    "- En el evento 0, los origenes de Terra y Astra coinciden.\n",
    "- En el evento 1, los origenes de Astra y Stella coinciden.\n",
    "- En el evento 2, los origenes de Terra y Stella coinciden.\n",
    "\n",
    "En el siguiente diagrama para el marco de terra, se ilustran estos eventos:"
   ]
  },
  {
   "cell_type": "code",
   "execution_count": null,
   "id": "461ba60a",
   "metadata": {},
   "outputs": [],
   "source": [
    "# hacer el diagrama que sale en el libro"
   ]
  },
  {
   "cell_type": "markdown",
   "id": "d82d588a",
   "metadata": {},
   "source": [
    "Del diagrama anterior, se observa que el tiempo propio de Terra es T. Ahora bien, para calcular el tiempo propio de Astra, es necesario cacular el timepo propio entre los eventos 0 y 1, y entre los eventos 1 y 2. Para esto, se hace uso de la relación $(\\Delta \\tau)^2 = (\\Delta s)^2 /c^2$, y se tiene en cuenta que el tiempo propio es un invariante, es decir, se puede calcular desde el marco de Terra sin ningún problema.\n",
    "\n",
    "Se encuentra que:\n",
    "\n",
    "$$(\\Delta \\tau _{0,1} = \\frac{T}{2\\gamma})$$\n",
    "$$(\\Delta \\tau _{1,2} = \\frac{T}{2\\gamma})$$\n",
    "\n",
    "Con lo cual, el tiempo propio acumulado por Astra es:\n",
    "$$(\\Delta \\tau _{0,2} = \\Delta \\tau _{0,1} + \\Delta \\tau _{1,2} = \\frac{T}{\\gamma})$$\n",
    "\n",
    "Y tal como es esperado, Astra es más joven que Terra al final de su viaje."
   ]
  },
  {
   "cell_type": "markdown",
   "id": "001e3f9f",
   "metadata": {},
   "source": [
    "Es importante notar que la razón por la cual Terra y Astra están en desacuerdo con el tiempo propio entre 0 y 2, es que Astra **no es un observador inercial**, pues está sometida a una aceleración que Terra no siente."
   ]
  },
  {
   "cell_type": "markdown",
   "id": "4e1497e4",
   "metadata": {},
   "source": []
  }
 ],
 "metadata": {
  "kernelspec": {
   "display_name": ".venv",
   "language": "python",
   "name": "python3"
  },
  "language_info": {
   "codemirror_mode": {
    "name": "ipython",
    "version": 3
   },
   "file_extension": ".py",
   "mimetype": "text/x-python",
   "name": "python",
   "nbconvert_exporter": "python",
   "pygments_lexer": "ipython3",
   "version": "3.11.9"
  }
 },
 "nbformat": 4,
 "nbformat_minor": 5
}
